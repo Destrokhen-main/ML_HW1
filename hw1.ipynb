{
 "cells": [
  {
   "cell_type": "code",
   "execution_count": 26,
   "metadata": {},
   "outputs": [],
   "source": [
    "import pandas as pd\n",
    "import numpy as np\n",
    "import seaborn as sns"
   ]
  },
  {
   "cell_type": "code",
   "execution_count": 27,
   "metadata": {},
   "outputs": [],
   "source": [
    "train = pd.read_csv('data/raw/train.csv')\n",
    "test = pd.read_csv('data/raw/test.csv')"
   ]
  },
  {
   "cell_type": "code",
   "execution_count": 28,
   "metadata": {
    "scrolled": true
   },
   "outputs": [
    {
     "data": {
      "text/plain": [
       "{'id': dtype('int64'),\n",
       " 'timestamp': dtype('O'),\n",
       " 'full_sq': dtype('int64'),\n",
       " 'life_sq': dtype('float64'),\n",
       " 'floor': dtype('float64'),\n",
       " 'max_floor': dtype('float64'),\n",
       " 'material': dtype('float64'),\n",
       " 'build_year': dtype('float64'),\n",
       " 'num_room': dtype('float64'),\n",
       " 'kitch_sq': dtype('float64'),\n",
       " 'state': dtype('float64'),\n",
       " 'product_type': dtype('O'),\n",
       " 'sub_area': dtype('O'),\n",
       " 'area_m': dtype('float64'),\n",
       " 'raion_popul': dtype('int64'),\n",
       " 'green_zone_part': dtype('float64'),\n",
       " 'indust_part': dtype('float64'),\n",
       " 'children_preschool': dtype('int64'),\n",
       " 'preschool_quota': dtype('float64'),\n",
       " 'preschool_education_centers_raion': dtype('int64'),\n",
       " 'children_school': dtype('int64'),\n",
       " 'school_quota': dtype('float64'),\n",
       " 'school_education_centers_raion': dtype('int64'),\n",
       " 'school_education_centers_top_20_raion': dtype('int64'),\n",
       " 'hospital_beds_raion': dtype('float64'),\n",
       " 'healthcare_centers_raion': dtype('int64'),\n",
       " 'university_top_20_raion': dtype('int64'),\n",
       " 'sport_objects_raion': dtype('int64'),\n",
       " 'additional_education_raion': dtype('int64'),\n",
       " 'culture_objects_top_25': dtype('O'),\n",
       " 'culture_objects_top_25_raion': dtype('int64'),\n",
       " 'shopping_centers_raion': dtype('int64'),\n",
       " 'office_raion': dtype('int64'),\n",
       " 'thermal_power_plant_raion': dtype('O'),\n",
       " 'incineration_raion': dtype('O'),\n",
       " 'oil_chemistry_raion': dtype('O'),\n",
       " 'radiation_raion': dtype('O'),\n",
       " 'railroad_terminal_raion': dtype('O'),\n",
       " 'big_market_raion': dtype('O'),\n",
       " 'nuclear_reactor_raion': dtype('O'),\n",
       " 'detention_facility_raion': dtype('O'),\n",
       " 'full_all': dtype('int64'),\n",
       " 'male_f': dtype('int64'),\n",
       " 'female_f': dtype('int64'),\n",
       " 'young_all': dtype('int64'),\n",
       " 'young_male': dtype('int64'),\n",
       " 'young_female': dtype('int64'),\n",
       " 'work_all': dtype('int64'),\n",
       " 'work_male': dtype('int64'),\n",
       " 'work_female': dtype('int64'),\n",
       " 'ekder_all': dtype('int64'),\n",
       " 'ekder_male': dtype('int64'),\n",
       " 'ekder_female': dtype('int64'),\n",
       " '0_6_all': dtype('int64'),\n",
       " '0_6_male': dtype('int64'),\n",
       " '0_6_female': dtype('int64'),\n",
       " '7_14_all': dtype('int64'),\n",
       " '7_14_male': dtype('int64'),\n",
       " '7_14_female': dtype('int64'),\n",
       " '0_17_all': dtype('int64'),\n",
       " '0_17_male': dtype('int64'),\n",
       " '0_17_female': dtype('int64'),\n",
       " '16_29_all': dtype('int64'),\n",
       " '16_29_male': dtype('int64'),\n",
       " '16_29_female': dtype('int64'),\n",
       " '0_13_all': dtype('int64'),\n",
       " '0_13_male': dtype('int64'),\n",
       " '0_13_female': dtype('int64'),\n",
       " 'raion_build_count_with_material_info': dtype('float64'),\n",
       " 'build_count_block': dtype('float64'),\n",
       " 'build_count_wood': dtype('float64'),\n",
       " 'build_count_frame': dtype('float64'),\n",
       " 'build_count_brick': dtype('float64'),\n",
       " 'build_count_monolith': dtype('float64'),\n",
       " 'build_count_panel': dtype('float64'),\n",
       " 'build_count_foam': dtype('float64'),\n",
       " 'build_count_slag': dtype('float64'),\n",
       " 'build_count_mix': dtype('float64'),\n",
       " 'raion_build_count_with_builddate_info': dtype('float64'),\n",
       " 'build_count_before_1920': dtype('float64'),\n",
       " 'build_count_1921-1945': dtype('float64'),\n",
       " 'build_count_1946-1970': dtype('float64'),\n",
       " 'build_count_1971-1995': dtype('float64'),\n",
       " 'build_count_after_1995': dtype('float64'),\n",
       " 'ID_metro': dtype('int64'),\n",
       " 'metro_min_avto': dtype('float64'),\n",
       " 'metro_km_avto': dtype('float64'),\n",
       " 'metro_min_walk': dtype('float64'),\n",
       " 'metro_km_walk': dtype('float64'),\n",
       " 'kindergarten_km': dtype('float64'),\n",
       " 'school_km': dtype('float64'),\n",
       " 'park_km': dtype('float64'),\n",
       " 'green_zone_km': dtype('float64'),\n",
       " 'industrial_km': dtype('float64'),\n",
       " 'water_treatment_km': dtype('float64'),\n",
       " 'cemetery_km': dtype('float64'),\n",
       " 'incineration_km': dtype('float64'),\n",
       " 'railroad_station_walk_km': dtype('float64'),\n",
       " 'railroad_station_walk_min': dtype('float64'),\n",
       " 'ID_railroad_station_walk': dtype('float64'),\n",
       " 'railroad_station_avto_km': dtype('float64'),\n",
       " 'railroad_station_avto_min': dtype('float64'),\n",
       " 'ID_railroad_station_avto': dtype('int64'),\n",
       " 'public_transport_station_km': dtype('float64'),\n",
       " 'public_transport_station_min_walk': dtype('float64'),\n",
       " 'water_km': dtype('float64'),\n",
       " 'water_1line': dtype('O'),\n",
       " 'mkad_km': dtype('float64'),\n",
       " 'ttk_km': dtype('float64'),\n",
       " 'sadovoe_km': dtype('float64'),\n",
       " 'bulvar_ring_km': dtype('float64'),\n",
       " 'kremlin_km': dtype('float64'),\n",
       " 'big_road1_km': dtype('float64'),\n",
       " 'ID_big_road1': dtype('int64'),\n",
       " 'big_road1_1line': dtype('O'),\n",
       " 'big_road2_km': dtype('float64'),\n",
       " 'ID_big_road2': dtype('int64'),\n",
       " 'railroad_km': dtype('float64'),\n",
       " 'railroad_1line': dtype('O'),\n",
       " 'zd_vokzaly_avto_km': dtype('float64'),\n",
       " 'ID_railroad_terminal': dtype('int64'),\n",
       " 'bus_terminal_avto_km': dtype('float64'),\n",
       " 'ID_bus_terminal': dtype('int64'),\n",
       " 'oil_chemistry_km': dtype('float64'),\n",
       " 'nuclear_reactor_km': dtype('float64'),\n",
       " 'radiation_km': dtype('float64'),\n",
       " 'power_transmission_line_km': dtype('float64'),\n",
       " 'thermal_power_plant_km': dtype('float64'),\n",
       " 'ts_km': dtype('float64'),\n",
       " 'big_market_km': dtype('float64'),\n",
       " 'market_shop_km': dtype('float64'),\n",
       " 'fitness_km': dtype('float64'),\n",
       " 'swim_pool_km': dtype('float64'),\n",
       " 'ice_rink_km': dtype('float64'),\n",
       " 'stadium_km': dtype('float64'),\n",
       " 'basketball_km': dtype('float64'),\n",
       " 'hospice_morgue_km': dtype('float64'),\n",
       " 'detention_facility_km': dtype('float64'),\n",
       " 'public_healthcare_km': dtype('float64'),\n",
       " 'university_km': dtype('float64'),\n",
       " 'workplaces_km': dtype('float64'),\n",
       " 'shopping_centers_km': dtype('float64'),\n",
       " 'office_km': dtype('float64'),\n",
       " 'additional_education_km': dtype('float64'),\n",
       " 'preschool_km': dtype('float64'),\n",
       " 'big_church_km': dtype('float64'),\n",
       " 'church_synagogue_km': dtype('float64'),\n",
       " 'mosque_km': dtype('float64'),\n",
       " 'theater_km': dtype('float64'),\n",
       " 'museum_km': dtype('float64'),\n",
       " 'exhibition_km': dtype('float64'),\n",
       " 'catering_km': dtype('float64'),\n",
       " 'ecology': dtype('O'),\n",
       " 'green_part_500': dtype('float64'),\n",
       " 'prom_part_500': dtype('float64'),\n",
       " 'office_count_500': dtype('int64'),\n",
       " 'office_sqm_500': dtype('int64'),\n",
       " 'trc_count_500': dtype('int64'),\n",
       " 'trc_sqm_500': dtype('int64'),\n",
       " 'cafe_count_500': dtype('int64'),\n",
       " 'cafe_sum_500_min_price_avg': dtype('float64'),\n",
       " 'cafe_sum_500_max_price_avg': dtype('float64'),\n",
       " 'cafe_avg_price_500': dtype('float64'),\n",
       " 'cafe_count_500_na_price': dtype('int64'),\n",
       " 'cafe_count_500_price_500': dtype('int64'),\n",
       " 'cafe_count_500_price_1000': dtype('int64'),\n",
       " 'cafe_count_500_price_1500': dtype('int64'),\n",
       " 'cafe_count_500_price_2500': dtype('int64'),\n",
       " 'cafe_count_500_price_4000': dtype('int64'),\n",
       " 'cafe_count_500_price_high': dtype('int64'),\n",
       " 'big_church_count_500': dtype('int64'),\n",
       " 'church_count_500': dtype('int64'),\n",
       " 'mosque_count_500': dtype('int64'),\n",
       " 'leisure_count_500': dtype('int64'),\n",
       " 'sport_count_500': dtype('int64'),\n",
       " 'market_count_500': dtype('int64'),\n",
       " 'green_part_1000': dtype('float64'),\n",
       " 'prom_part_1000': dtype('float64'),\n",
       " 'office_count_1000': dtype('int64'),\n",
       " 'office_sqm_1000': dtype('int64'),\n",
       " 'trc_count_1000': dtype('int64'),\n",
       " 'trc_sqm_1000': dtype('int64'),\n",
       " 'cafe_count_1000': dtype('int64'),\n",
       " 'cafe_sum_1000_min_price_avg': dtype('float64'),\n",
       " 'cafe_sum_1000_max_price_avg': dtype('float64'),\n",
       " 'cafe_avg_price_1000': dtype('float64'),\n",
       " 'cafe_count_1000_na_price': dtype('int64'),\n",
       " 'cafe_count_1000_price_500': dtype('int64'),\n",
       " 'cafe_count_1000_price_1000': dtype('int64'),\n",
       " 'cafe_count_1000_price_1500': dtype('int64'),\n",
       " 'cafe_count_1000_price_2500': dtype('int64'),\n",
       " 'cafe_count_1000_price_4000': dtype('int64'),\n",
       " 'cafe_count_1000_price_high': dtype('int64'),\n",
       " 'big_church_count_1000': dtype('int64'),\n",
       " 'church_count_1000': dtype('int64'),\n",
       " 'mosque_count_1000': dtype('int64'),\n",
       " 'leisure_count_1000': dtype('int64'),\n",
       " 'sport_count_1000': dtype('int64'),\n",
       " 'market_count_1000': dtype('int64'),\n",
       " 'green_part_1500': dtype('float64'),\n",
       " 'prom_part_1500': dtype('float64'),\n",
       " 'office_count_1500': dtype('int64'),\n",
       " 'office_sqm_1500': dtype('int64'),\n",
       " 'trc_count_1500': dtype('int64'),\n",
       " 'trc_sqm_1500': dtype('int64'),\n",
       " 'cafe_count_1500': dtype('int64'),\n",
       " 'cafe_sum_1500_min_price_avg': dtype('float64'),\n",
       " 'cafe_sum_1500_max_price_avg': dtype('float64'),\n",
       " 'cafe_avg_price_1500': dtype('float64'),\n",
       " 'cafe_count_1500_na_price': dtype('int64'),\n",
       " 'cafe_count_1500_price_500': dtype('int64'),\n",
       " 'cafe_count_1500_price_1000': dtype('int64'),\n",
       " 'cafe_count_1500_price_1500': dtype('int64'),\n",
       " 'cafe_count_1500_price_2500': dtype('int64'),\n",
       " 'cafe_count_1500_price_4000': dtype('int64'),\n",
       " 'cafe_count_1500_price_high': dtype('int64'),\n",
       " 'big_church_count_1500': dtype('int64'),\n",
       " 'church_count_1500': dtype('int64'),\n",
       " 'mosque_count_1500': dtype('int64'),\n",
       " 'leisure_count_1500': dtype('int64'),\n",
       " 'sport_count_1500': dtype('int64'),\n",
       " 'market_count_1500': dtype('int64'),\n",
       " 'green_part_2000': dtype('float64'),\n",
       " 'prom_part_2000': dtype('float64'),\n",
       " 'office_count_2000': dtype('int64'),\n",
       " 'office_sqm_2000': dtype('int64'),\n",
       " 'trc_count_2000': dtype('int64'),\n",
       " 'trc_sqm_2000': dtype('int64'),\n",
       " 'cafe_count_2000': dtype('int64'),\n",
       " 'cafe_sum_2000_min_price_avg': dtype('float64'),\n",
       " 'cafe_sum_2000_max_price_avg': dtype('float64'),\n",
       " 'cafe_avg_price_2000': dtype('float64'),\n",
       " 'cafe_count_2000_na_price': dtype('int64'),\n",
       " 'cafe_count_2000_price_500': dtype('int64'),\n",
       " 'cafe_count_2000_price_1000': dtype('int64'),\n",
       " 'cafe_count_2000_price_1500': dtype('int64'),\n",
       " 'cafe_count_2000_price_2500': dtype('int64'),\n",
       " 'cafe_count_2000_price_4000': dtype('int64'),\n",
       " 'cafe_count_2000_price_high': dtype('int64'),\n",
       " 'big_church_count_2000': dtype('int64'),\n",
       " 'church_count_2000': dtype('int64'),\n",
       " 'mosque_count_2000': dtype('int64'),\n",
       " 'leisure_count_2000': dtype('int64'),\n",
       " 'sport_count_2000': dtype('int64'),\n",
       " 'market_count_2000': dtype('int64'),\n",
       " 'green_part_3000': dtype('float64'),\n",
       " 'prom_part_3000': dtype('float64'),\n",
       " 'office_count_3000': dtype('int64'),\n",
       " 'office_sqm_3000': dtype('int64'),\n",
       " 'trc_count_3000': dtype('int64'),\n",
       " 'trc_sqm_3000': dtype('int64'),\n",
       " 'cafe_count_3000': dtype('int64'),\n",
       " 'cafe_sum_3000_min_price_avg': dtype('float64'),\n",
       " 'cafe_sum_3000_max_price_avg': dtype('float64'),\n",
       " 'cafe_avg_price_3000': dtype('float64'),\n",
       " 'cafe_count_3000_na_price': dtype('int64'),\n",
       " 'cafe_count_3000_price_500': dtype('int64'),\n",
       " 'cafe_count_3000_price_1000': dtype('int64'),\n",
       " 'cafe_count_3000_price_1500': dtype('int64'),\n",
       " 'cafe_count_3000_price_2500': dtype('int64'),\n",
       " 'cafe_count_3000_price_4000': dtype('int64'),\n",
       " 'cafe_count_3000_price_high': dtype('int64'),\n",
       " 'big_church_count_3000': dtype('int64'),\n",
       " 'church_count_3000': dtype('int64'),\n",
       " 'mosque_count_3000': dtype('int64'),\n",
       " 'leisure_count_3000': dtype('int64'),\n",
       " 'sport_count_3000': dtype('int64'),\n",
       " 'market_count_3000': dtype('int64'),\n",
       " 'green_part_5000': dtype('float64'),\n",
       " 'prom_part_5000': dtype('float64'),\n",
       " 'office_count_5000': dtype('int64'),\n",
       " 'office_sqm_5000': dtype('int64'),\n",
       " 'trc_count_5000': dtype('int64'),\n",
       " 'trc_sqm_5000': dtype('int64'),\n",
       " 'cafe_count_5000': dtype('int64'),\n",
       " 'cafe_sum_5000_min_price_avg': dtype('float64'),\n",
       " 'cafe_sum_5000_max_price_avg': dtype('float64'),\n",
       " 'cafe_avg_price_5000': dtype('float64'),\n",
       " 'cafe_count_5000_na_price': dtype('int64'),\n",
       " 'cafe_count_5000_price_500': dtype('int64'),\n",
       " 'cafe_count_5000_price_1000': dtype('int64'),\n",
       " 'cafe_count_5000_price_1500': dtype('int64'),\n",
       " 'cafe_count_5000_price_2500': dtype('int64'),\n",
       " 'cafe_count_5000_price_4000': dtype('int64'),\n",
       " 'cafe_count_5000_price_high': dtype('int64'),\n",
       " 'big_church_count_5000': dtype('int64'),\n",
       " 'church_count_5000': dtype('int64'),\n",
       " 'mosque_count_5000': dtype('int64'),\n",
       " 'leisure_count_5000': dtype('int64'),\n",
       " 'sport_count_5000': dtype('int64'),\n",
       " 'market_count_5000': dtype('int64'),\n",
       " 'price_doc': dtype('int64')}"
      ]
     },
     "execution_count": 28,
     "metadata": {},
     "output_type": "execute_result"
    }
   ],
   "source": [
    "# Create a dictionary by combining columns and types\n",
    "dict(zip(train.columns.to_list(), train.dtypes.to_list()))"
   ]
  },
  {
   "cell_type": "markdown",
   "metadata": {},
   "source": [
    "# 0. Data preprocessing + Feature Engineering"
   ]
  },
  {
   "cell_type": "markdown",
   "metadata": {},
   "source": [
    "# build_year outliers cleaning"
   ]
  },
  {
   "cell_type": "code",
   "execution_count": 29,
   "metadata": {},
   "outputs": [
    {
     "data": {
      "text/plain": [
       "<AxesSubplot:>"
      ]
     },
     "execution_count": 29,
     "metadata": {},
     "output_type": "execute_result"
    },
    {
     "data": {
      "image/png": "[encoded data removed]",
      "text/plain": [
       "<Figure size 432x288 with 1 Axes>"
      ]
     },
     "metadata": {
      "needs_background": "light"
     },
     "output_type": "display_data"
    }
   ],
   "source": [
    "train['build_year'].clip(train['build_year'].quantile(0.06), train['build_year'].quantile(0.99), inplace=True)\n",
    "train['build_year'].hist(bins=100)"
   ]
  },
  {
   "cell_type": "markdown",
   "metadata": {},
   "source": [
    "### Product_type (категориальная -> бинарная)"
   ]
  },
  {
   "cell_type": "code",
   "execution_count": 30,
   "metadata": {},
   "outputs": [],
   "source": [
    "train['product_type'] = train['product_type'].replace({'Investment': 1, 'OwnerOccupier': 0})\n",
    "test['product_type'] = test['product_type'].replace({'Investment': 1, 'OwnerOccupier': 0})"
   ]
  },
  {
   "cell_type": "markdown",
   "metadata": {},
   "source": [
    "### New : Price_m2 (Цена за метр квадратный)"
   ]
  },
  {
   "cell_type": "code",
   "execution_count": 31,
   "metadata": {},
   "outputs": [],
   "source": [
    "train['price_m2'] = train['price_doc'] / (train['full_sq'] + 1)\n",
    "train['price_m2'].clip(train['price_m2'].quantile(0.01), train['price_m2'].quantile(0.99), inplace=True)"
   ]
  },
  {
   "cell_type": "markdown",
   "metadata": {},
   "source": [
    "### Каково среднее значение price_m2 в каждой из sub_area (target encoding (sub area))"
   ]
  },
  {
   "cell_type": "code",
   "execution_count": 32,
   "metadata": {},
   "outputs": [],
   "source": [
    "def target_encoding(train, test, colX, colY):\n",
    "    col_target_encoding = train.groupby([colX])[colY].mean()\n",
    "    train[colX] = train[colX].replace(col_target_encoding)\n",
    "    test[colX] = test[colX].replace(col_target_encoding)\n",
    "    return train, test"
   ]
  },
  {
   "cell_type": "code",
   "execution_count": 33,
   "metadata": {},
   "outputs": [],
   "source": [
    "train, test = target_encoding(train, test, 'material', 'price_m2')\n",
    "train, test = target_encoding(train, test, 'state', 'price_m2')\n",
    "train, test = target_encoding(train, test, 'sub_area', 'price_m2')"
   ]
  },
  {
   "cell_type": "markdown",
   "metadata": {},
   "source": [
    "### timestamp encoding // кодирование метки времени"
   ]
  },
  {
   "cell_type": "code",
   "execution_count": 34,
   "metadata": {},
   "outputs": [],
   "source": [
    "def get_date_time_features(timestamp_series: pd.Series) -> pd.DataFrame:\n",
    "    timestamp_series = pd.to_datetime(timestamp_series)\n",
    "    out = pd.DataFrame()\n",
    "\n",
    "    out['year'] = timestamp_series.dt.year.astype(np.int16)\n",
    "    out['month'] = timestamp_series.dt.month.astype(np.int8)\n",
    "    out['day_week'] = timestamp_series.dt.dayofweek.astype(np.int8)\n",
    "    out['day_month_datetime'] =timestamp_series.dt.day.astype(np.int8)\n",
    "    \n",
    "    out['timestamp']= timestamp_series\n",
    "    out['kseconds'] = timestamp_series.view(int)/1_000_000_000_000\n",
    "    return out"
   ]
  },
  {
   "cell_type": "code",
   "execution_count": 35,
   "metadata": {},
   "outputs": [],
   "source": [
    "train = pd.concat( [train, get_date_time_features(train['timestamp'])] , axis=1 )\n",
    "test = pd.concat( [test, get_date_time_features(test['timestamp'])] , axis=1 )"
   ]
  },
  {
   "cell_type": "markdown",
   "metadata": {},
   "source": [
    "### add functions"
   ]
  },
  {
   "cell_type": "code",
   "execution_count": 36,
   "metadata": {},
   "outputs": [],
   "source": [
    "train['floor_height'] = train['floor'] / (train['max_floor'] + 1)\n",
    "test['floor_height'] = test['floor'] / (test['max_floor'] + 1)"
   ]
  },
  {
   "cell_type": "code",
   "execution_count": 37,
   "metadata": {},
   "outputs": [],
   "source": [
    "train['kitch_part'] = train['kitch_sq'] / (train['full_sq'] + 1)\n",
    "train['life_part'] = train['life_sq'] / (train['full_sq'] + 1)\n",
    "\n",
    "test['life_part'] = test['life_sq'] / (test['full_sq'] + 1)\n",
    "test['kitch_part'] = test['kitch_sq'] / (test['full_sq'] + 1)"
   ]
  },
  {
   "cell_type": "code",
   "execution_count": 38,
   "metadata": {
    "scrolled": true
   },
   "outputs": [],
   "source": [
    "train.loc[:, 'build_year'] = train['build_year'].fillna(train['build_year'].median())\n",
    "train.loc[:, 'material'] = train['material'].fillna(train['material'].median())\n",
    "train.loc[:, 'num_room'] = train['num_room'].fillna(train['num_room'].median())\n",
    "train.loc[:, 'floor_height'] = train['floor_height'].fillna(train['floor_height'].median())\n",
    "train.loc[:, 'life_part'] = train['life_part'].fillna(train['life_part'].median())\n",
    "train.loc[:, 'kitch_part'] = train['kitch_part'].fillna(train['kitch_part'].median())\n",
    "train.loc[:, 'metro_km_walk'] = train['metro_km_walk'].fillna(train['metro_km_walk'].median())\n",
    "train.loc[:, 'state'] = train['state'].fillna(train['state'].median())"
   ]
  },
  {
   "cell_type": "markdown",
   "metadata": {
    "collapsed": true
   },
   "source": [
    "# 1. Cross validation function"
   ]
  },
  {
   "cell_type": "code",
   "execution_count": 39,
   "metadata": {},
   "outputs": [],
   "source": [
    "from sklearn.model_selection import KFold\n",
    "from sklearn.metrics import mean_squared_log_error, mean_squared_error\n",
    "from sklearn.linear_model import SGDRegressor"
   ]
  },
  {
   "cell_type": "markdown",
   "metadata": {},
   "source": [
    "### features = Xcol , target = Ycol"
   ]
  },
  {
   "cell_type": "code",
   "execution_count": 40,
   "metadata": {},
   "outputs": [],
   "source": [
    "def cross_validation(df, x_col, y_col):\n",
    "    features    = x_col\n",
    "    target      = y_col\n",
    "\n",
    "    mseList     = []\n",
    "    msleList    = []\n",
    "    i = 1\n",
    "\n",
    "    kf = KFold(n_splits=5, shuffle=True)\n",
    "    for trainIdx, valIdx in kf.split(df):\n",
    "        trainPart = df.loc[trainIdx, :]\n",
    "        valPart = df.loc[valIdx, :]\n",
    "\n",
    "        model = SGDRegressor()\n",
    "        model.fit(X=trainPart[features], y=trainPart[target])\n",
    "        valPred = model.predict(valPart[features]).clip(1, 10**9)\n",
    "\n",
    "        mse = mean_squared_error(valPred, valPart[target])\n",
    "        msle = mean_squared_log_error(valPred, valPart[target])\n",
    "\n",
    "        mseList.append(mse)\n",
    "        msleList.append(msle)\n",
    "\n",
    "        print(f'Fold: {i}, MSLE: {msle}, MSE: {mse}')\n",
    "        i += 1\n",
    "\n",
    "    print(f'AV_MSLE: {np.mean(msleList)}, AV_MSE: {np.mean(mseList)}')"
   ]
  },
  {
   "cell_type": "markdown",
   "metadata": {},
   "source": [
    "# 2. Test 5 models"
   ]
  },
  {
   "cell_type": "markdown",
   "metadata": {},
   "source": [
    "### * Test 1"
   ]
  },
  {
   "cell_type": "code",
   "execution_count": 41,
   "metadata": {},
   "outputs": [
    {
     "name": "stdout",
     "output_type": "stream",
     "text": [
      "Fold: 1, MSLE: 0.8729241485314969, MSE: 2324777793.470522\n",
      "Fold: 2, MSLE: 0.4855888547837215, MSE: 2264930566.023577\n",
      "Fold: 3, MSLE: 0.8368229948484047, MSE: 2400482453.1594815\n",
      "Fold: 4, MSLE: 0.25313960443785904, MSE: 2222087678.0354323\n",
      "Fold: 5, MSLE: 0.29349118119310263, MSE: 2458575024.5080395\n",
      "AV_MSLE: 0.5483933567589169, AV_MSE: 2334170703.0394106\n"
     ]
    },
    {
     "data": {
      "text/plain": [
       "SGDRegressor()"
      ]
     },
     "execution_count": 41,
     "metadata": {},
     "output_type": "execute_result"
    }
   ],
   "source": [
    "xCol1 = ['metro_km_walk', 'kremlin_km', 'num_room']\n",
    "yCol = 'price_m2'\n",
    "\n",
    "cross_validation(train, xCol1, yCol)\n",
    "\n",
    "model_1 = SGDRegressor()\n",
    "model_1.fit(X=train[xCol1], y=train[yCol])"
   ]
  },
  {
   "cell_type": "markdown",
   "metadata": {},
   "source": [
    "2) Test 2"
   ]
  },
  {
   "cell_type": "code",
   "execution_count": 42,
   "metadata": {},
   "outputs": [
    {
     "name": "stdout",
     "output_type": "stream",
     "text": [
      "Fold: 1, MSLE: 0.2615669515187758, MSE: 2257320693.5733027\n",
      "Fold: 2, MSLE: 0.43610323123712064, MSE: 2196773093.930733\n",
      "Fold: 3, MSLE: 0.3022234504320689, MSE: 2151729052.352208\n",
      "Fold: 4, MSLE: 0.35610896098953976, MSE: 2087618783.0571868\n",
      "Fold: 5, MSLE: 0.38631947056545896, MSE: 2184412773.6835766\n",
      "AV_MSLE: 0.3484644129485928, AV_MSE: 2175570879.3194017\n"
     ]
    },
    {
     "data": {
      "text/plain": [
       "SGDRegressor()"
      ]
     },
     "execution_count": 42,
     "metadata": {},
     "output_type": "execute_result"
    }
   ],
   "source": [
    "xCol2 = ['metro_km_walk', 'kremlin_km', 'num_room']\n",
    "yCol = 'price_m2'\n",
    "\n",
    "train.loc[:, 'metro_km_walk'] = (train['metro_km_walk'] - train['metro_km_walk'].mean()) / train['metro_km_walk'].std()\n",
    "train.loc[:, 'kremlin_km'] = (train['kremlin_km'] - train['kremlin_km'].mean()) / train['kremlin_km'].std()\n",
    "\n",
    "cross_validation(train, xCol2, yCol)\n",
    "\n",
    "model_2 = SGDRegressor()\n",
    "model_2.fit(X=train[xCol2], y=train[yCol])"
   ]
  },
  {
   "cell_type": "markdown",
   "metadata": {},
   "source": [
    "3) Test 3"
   ]
  },
  {
   "cell_type": "code",
   "execution_count": 43,
   "metadata": {},
   "outputs": [
    {
     "name": "stdout",
     "output_type": "stream",
     "text": [
      "Fold: 1, MSLE: 0.21780340245867114, MSE: 1711043375.472146\n",
      "Fold: 2, MSLE: 0.23348935687830155, MSE: 1825422244.428498\n",
      "Fold: 3, MSLE: 0.2296145647222797, MSE: 1773500342.271436\n",
      "Fold: 4, MSLE: 0.21986240352687694, MSE: 1779863755.4493206\n",
      "Fold: 5, MSLE: 0.2221343942385369, MSE: 1737124196.4995668\n",
      "AV_MSLE: 0.22458082436493326, AV_MSE: 1765390782.8241935\n"
     ]
    },
    {
     "data": {
      "text/plain": [
       "SGDRegressor()"
      ]
     },
     "execution_count": 43,
     "metadata": {},
     "output_type": "execute_result"
    }
   ],
   "source": [
    "xCol3 = ['sub_area',\n",
    "         'product_type',\n",
    "         'state',\n",
    "         'ID_metro',\n",
    "         'material',\n",
    "         'num_room',\n",
    "         'kremlin_km',\n",
    "         'metro_km_walk']\n",
    "yCol = 'price_m2'\n",
    "\n",
    "train.loc[:, 'sub_area'] = (train['sub_area'] - train['sub_area'].mean()) / train['sub_area'].std()\n",
    "train.loc[:, 'state'] = (train['state'] - train['state'].mean()) / train['state'].std()\n",
    "train.loc[:, 'ID_metro'] = (train['ID_metro'] - train['ID_metro'].mean()) / train['ID_metro'].std()\n",
    "train.loc[:, 'material'] = (train['material'] - train['material'].mean()) / train['material'].std()\n",
    "\n",
    "cross_validation(train, xCol3, yCol)\n",
    "model_3 = SGDRegressor()\n",
    "model_3.fit(X=train[xCol3], y=train[yCol])"
   ]
  },
  {
   "cell_type": "markdown",
   "metadata": {},
   "source": [
    "4) Test 4"
   ]
  },
  {
   "cell_type": "code",
   "execution_count": 44,
   "metadata": {},
   "outputs": [
    {
     "name": "stdout",
     "output_type": "stream",
     "text": [
      "Fold: 1, MSLE: 0.21981903811508713, MSE: 1690932104.2350736\n",
      "Fold: 2, MSLE: 0.2261018061471629, MSE: 1750495113.8957145\n",
      "Fold: 3, MSLE: 0.21056959708735468, MSE: 1658747698.1494207\n",
      "Fold: 4, MSLE: 0.23219064041031487, MSE: 1729629155.9876995\n",
      "Fold: 5, MSLE: 0.21061304727345398, MSE: 1675311468.8919487\n",
      "AV_MSLE: 0.2198588258066747, AV_MSE: 1701023108.2319713\n"
     ]
    },
    {
     "data": {
      "text/plain": [
       "SGDRegressor()"
      ]
     },
     "execution_count": 44,
     "metadata": {},
     "output_type": "execute_result"
    }
   ],
   "source": [
    "xCol4 = ['sub_area',\n",
    "         'product_type',\n",
    "         'state',\n",
    "         'ID_metro',\n",
    "         'material',\n",
    "         'num_room',\n",
    "         'kremlin_km',\n",
    "         'metro_km_walk',\n",
    "        'kseconds',\n",
    "        'build_year']\n",
    "yCol = 'price_m2'\n",
    "\n",
    "train.loc[:, 'kseconds'] = (train['kseconds'] - train['kseconds'].mean()) / train['kseconds'].std()\n",
    "train.loc[:, 'build_year'] = (train['build_year'] - train['build_year'].mean()) / train['build_year'].std()\n",
    "\n",
    "cross_validation(train, xCol4, yCol)\n",
    "model_4 = SGDRegressor()\n",
    "model_4.fit(X=train[xCol4], y=train[yCol])"
   ]
  },
  {
   "cell_type": "markdown",
   "metadata": {},
   "source": [
    "5) Test 5"
   ]
  },
  {
   "cell_type": "code",
   "execution_count": 45,
   "metadata": {},
   "outputs": [
    {
     "name": "stdout",
     "output_type": "stream",
     "text": [
      "Fold: 1, MSLE: 0.001413490059368408, MSE: 0.2090830419034634\n",
      "Fold: 2, MSLE: 0.0014032874491834836, MSE: 0.20759698781488375\n",
      "Fold: 3, MSLE: 0.001451175250165649, MSE: 0.21349612824031533\n",
      "Fold: 4, MSLE: 0.0014725619050753465, MSE: 0.21685450701401943\n",
      "Fold: 5, MSLE: 0.0014855346471271472, MSE: 0.21928160203016817\n",
      "AV_MSLE: 0.001445209862184007, AV_MSE: 0.21326245340056998\n"
     ]
    },
    {
     "data": {
      "text/plain": [
       "SGDRegressor()"
      ]
     },
     "execution_count": 45,
     "metadata": {},
     "output_type": "execute_result"
    }
   ],
   "source": [
    "xCol5 = ['sub_area',\n",
    "         'product_type',\n",
    "         'state',\n",
    "         'ID_metro',\n",
    "         'material',\n",
    "         'num_room',\n",
    "         'kremlin_km',\n",
    "         'metro_km_walk',\n",
    "        'kseconds',\n",
    "        'build_year']\n",
    "\n",
    "train['log_price_m2'] = np.log1p(train['price_m2'])\n",
    "\n",
    "yCol = 'log_price_m2'\n",
    "\n",
    "\n",
    "cross_validation(train, xCol5, yCol)\n",
    "model_5 = SGDRegressor()\n",
    "model_5.fit(X=train[xCol5], y=train[yCol])"
   ]
  },
  {
   "cell_type": "markdown",
   "metadata": {},
   "source": [
    "# 3. CV + submit"
   ]
  },
  {
   "cell_type": "code",
   "execution_count": 46,
   "metadata": {},
   "outputs": [],
   "source": [
    "def write_test(test, model, xCol, i):\n",
    "    test_prediction = model.predict(test[xCol].fillna(0))\n",
    "\n",
    "    sample_submission = pd.read_csv('data/raw/sample_submission.csv')\n",
    "\n",
    "    sample_submission['price_doc'] = test_prediction\n",
    "    sample_submission['price_doc'] *= test['full_sq']\n",
    "    sample_submission['price_doc'] = sample_submission['price_doc'].clip(1, 10**9)\n",
    "    \n",
    "    sample_submission.to_csv(f'file/predict_hw_model{i}.csv', index=False)"
   ]
  },
  {
   "cell_type": "code",
   "execution_count": 47,
   "metadata": {},
   "outputs": [],
   "source": [
    "test.loc[:, 'metro_km_walk'] = (test['metro_km_walk'] - test['metro_km_walk'].mean()) / test['metro_km_walk'].std()\n",
    "test.loc[:, 'kremlin_km'] = (test['kremlin_km'] - test['kremlin_km'].mean()) / test['kremlin_km'].std()\n",
    "test.loc[:, 'sub_area'] = (test['sub_area'] - test['sub_area'].mean()) / test['sub_area'].std()\n",
    "test.loc[:, 'state'] = (test['state'] - test['state'].mean()) / test['state'].std()\n",
    "test.loc[:, 'ID_metro'] = (test['ID_metro'] - test['ID_metro'].mean()) / test['ID_metro'].std()\n",
    "test.loc[:, 'material'] = (test['material'] - test['material'].mean()) / test['material'].std()\n",
    "test.loc[:, 'kseconds'] = (test['kseconds'] - test['kseconds'].mean()) / test['kseconds'].std()\n",
    "test.loc[:, 'build_year'] = (test['build_year'] - test['build_year'].mean()) / test['build_year'].std()"
   ]
  },
  {
   "cell_type": "code",
   "execution_count": 48,
   "metadata": {},
   "outputs": [],
   "source": [
    "write_test(test, model_1, xCol1, 1)\n",
    "write_test(test, model_2, xCol2, 2)\n",
    "write_test(test, model_3, xCol3, 3)\n",
    "write_test(test, model_4, xCol4, 4)"
   ]
  },
  {
   "cell_type": "code",
   "execution_count": 49,
   "metadata": {},
   "outputs": [],
   "source": [
    "test_prediction = model_5.predict(test[xCol5].fillna(0))\n",
    "sample_submission = pd.read_csv('data/raw/sample_submission.csv')\n",
    "sample_submission['price_doc'] = np.e**test_prediction - 1\n",
    "sample_submission['price_doc'] *= test['full_sq']\n",
    "sample_submission['price_doc'] = sample_submission['price_doc'].clip(1, 10**9)\n",
    "sample_submission.to_csv(f'predict_hw_model5.csv', index=False)"
   ]
  },
  {
   "cell_type": "markdown",
   "metadata": {},
   "source": [
    "# 4. Plot submit_score(CV_score)"
   ]
  },
  {
   "cell_type": "code",
   "execution_count": 50,
   "metadata": {},
   "outputs": [],
   "source": [
    "models = ['1', '2', '3', '4', '5']\n",
    "\n",
    "CV_scores = [0.45125177138420014, 0.34747124061312074, 0.22617311024121353, 0.22111410358783473, 0.0014492700337110566]\n",
    "submit_scores = [0.35927, 0.34360, 0.33729, 0.36365, 0.50200]"
   ]
  },
  {
   "cell_type": "code",
   "execution_count": 51,
   "metadata": {},
   "outputs": [],
   "source": [
    "df = pd.DataFrame(list(zip(models, CV_scores, submit_scores)), columns=['model', 'CV', 'submit'])"
   ]
  },
  {
   "cell_type": "code",
   "execution_count": 52,
   "metadata": {},
   "outputs": [
    {
     "data": {
      "text/plain": [
       "<AxesSubplot:xlabel='model'>"
      ]
     },
     "execution_count": 52,
     "metadata": {},
     "output_type": "execute_result"
    },
    {
     "data": {
      "image/png": "[encoded data removed]",
      "text/plain": [
       "<Figure size 432x288 with 1 Axes>"
      ]
     },
     "metadata": {
      "needs_background": "light"
     },
     "output_type": "display_data"
    }
   ],
   "source": [
    "df.plot(x='model', y=['CV', 'submit'])"
   ]
  },
  {
   "cell_type": "markdown",
   "metadata": {},
   "source": [
    "# 5. Insights"
   ]
  },
  {
   "cell_type": "markdown",
   "metadata": {},
   "source": [
    "### * Категориальные переменные снизили ошибку\n",
    "### * Модель переобучается из-за DateTime переменных\n",
    "### * Логарифмирование таргета ухудшило результат на сабмите"
   ]
  }
 ],
 "metadata": {
  "interpreter": {
   "hash": "aee8b7b246df8f9039afb4144a1f6fd8d2ca17a180786b69acc140d282b71a49"
  },
  "kernelspec": {
   "display_name": "Python 3.9.7 64-bit",
   "name": "python3"
  },
  "language_info": {
   "codemirror_mode": {
    "name": "ipython",
    "version": 3
   },
   "file_extension": ".py",
   "mimetype": "text/x-python",
   "name": "python",
   "nbconvert_exporter": "python",
   "pygments_lexer": "ipython3",
   "version": "3.9.7"
  }
 },
 "nbformat": 4,
 "nbformat_minor": 1
}
